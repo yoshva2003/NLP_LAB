{
 "cells": [
  {
   "cell_type": "code",
   "execution_count": 1,
   "metadata": {},
   "outputs": [
    {
     "name": "stdout",
     "output_type": "stream",
     "text": [
      "['I']\n",
      "['am']\n",
      "['learning']\n",
      "['Natural']\n",
      "['Language']\n",
      "['Processing']\n"
     ]
    }
   ],
   "source": [
    "def generate_ngrams(text, n):\n",
    "    # Tokenize the text into words\n",
    "    words = text.split()\n",
    "    \n",
    "    # Create n-grams using list comprehension\n",
    "    ngrams = [words[i:i+n] for i in range(len(words)-n+1)]\n",
    "    \n",
    "    return ngrams\n",
    "\n",
    "# Example usage:\n",
    "sentence = \"I am learning Natural Language Processing\"\n",
    "n = 1  # Change to 1 for unigram, 2 for bigram, 3 for trigram\n",
    "\n",
    "ngrams = generate_ngrams(sentence, n)\n",
    "for gram in ngrams:\n",
    "    print(gram)"
   ]
  },
  {
   "cell_type": "code",
   "execution_count": 2,
   "metadata": {},
   "outputs": [
    {
     "name": "stdout",
     "output_type": "stream",
     "text": [
      "('I', 'love')\n",
      "('love', 'reading')\n",
      "('reading', 'books')\n"
     ]
    },
    {
     "name": "stderr",
     "output_type": "stream",
     "text": [
      "[nltk_data] Downloading package punkt to\n",
      "[nltk_data]     C:\\Users\\2mscds52\\AppData\\Roaming\\nltk_data...\n",
      "[nltk_data]   Package punkt is already up-to-date!\n"
     ]
    }
   ],
   "source": [
    "from nltk import bigrams\n",
    "from nltk.tokenize import word_tokenize\n",
    "import nltk\n",
    "\n",
    "# Download punkt tokenizer if not already downloaded\n",
    "nltk.download('punkt')\n",
    "\n",
    "# Example sentence\n",
    "sentence = \"I love reading books\"\n",
    "\n",
    "# Tokenize the sentence into words\n",
    "tokens = word_tokenize(sentence)\n",
    "\n",
    "# Generate bigrams using nltk\n",
    "bi_grams = list(bigrams(tokens))\n",
    "\n",
    "# Display bigrams\n",
    "for bg in bi_grams:\n",
    "    print(bg)\n"
   ]
  },
  {
   "cell_type": "code",
   "execution_count": 3,
   "metadata": {},
   "outputs": [
    {
     "name": "stdout",
     "output_type": "stream",
     "text": [
      "('I', 'love', 'reading')\n",
      "('love', 'reading', 'NLP')\n",
      "('reading', 'NLP', 'books')\n",
      "('NLP', 'books', 'daily')\n"
     ]
    },
    {
     "name": "stderr",
     "output_type": "stream",
     "text": [
      "[nltk_data] Downloading package punkt to\n",
      "[nltk_data]     C:\\Users\\2mscds52\\AppData\\Roaming\\nltk_data...\n",
      "[nltk_data]   Package punkt is already up-to-date!\n"
     ]
    }
   ],
   "source": [
    "\n",
    "from nltk import trigrams\n",
    "from nltk.tokenize import word_tokenize\n",
    "import nltk\n",
    "\n",
    "# Download punkt tokenizer if not already downloaded\n",
    "nltk.download('punkt')\n",
    "\n",
    "# Example sentence\n",
    "sentence = \"I love reading NLP books daily\"\n",
    "\n",
    "# Tokenize the sentence into words\n",
    "tokens = word_tokenize(sentence)\n",
    "\n",
    "# Generate trigrams using nltk\n",
    "tri_grams = list(trigrams(tokens))\n",
    "\n",
    "# Display trigrams\n",
    "for tg in tri_grams:\n",
    "    print(tg)\n"
   ]
  },
  {
   "cell_type": "code",
   "execution_count": null,
   "metadata": {},
   "outputs": [],
   "source": []
  }
 ],
 "metadata": {
  "kernelspec": {
   "display_name": "Python 3",
   "language": "python",
   "name": "python3"
  },
  "language_info": {
   "codemirror_mode": {
    "name": "ipython",
    "version": 3
   },
   "file_extension": ".py",
   "mimetype": "text/x-python",
   "name": "python",
   "nbconvert_exporter": "python",
   "pygments_lexer": "ipython3",
   "version": "3.7.1"
  }
 },
 "nbformat": 4,
 "nbformat_minor": 2
}
